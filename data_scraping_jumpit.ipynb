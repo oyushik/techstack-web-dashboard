{
 "cells": [
  {
   "cell_type": "code",
   "execution_count": null,
   "id": "ceb0178b",
   "metadata": {},
   "outputs": [],
   "source": [
    "# 라이브러리 import 및 logging 설정\n",
    "import requests\n",
    "import time\n",
    "import logging\n",
    "\n",
    "import data_utils\n",
    "\n",
    "data_utils.setup_logging()\n",
    "logging.info(\"필수 라이브러리 및 data_utils 모듈 임포트, 로깅 설정 완료\")"
   ]
  },
  {
   "cell_type": "code",
   "execution_count": null,
   "id": "37a74fc3",
   "metadata": {},
   "outputs": [],
   "source": [
    "# 직종 구분 선택 -> 사이트마다 다르게 설정할 것\n",
    "job_category = \"total\" # \"total\" # \"backend\" # \"frontend\"\n",
    "\n",
    "if job_category == \"total\":\n",
    "    job_category_url = \"?\"\n",
    "elif job_category == \"backend\":\n",
    "    job_category_url = \"?jobCategory=1&\"\n",
    "elif job_category == \"frontend\":\n",
    "    job_category_url = \"?jobCategory=2&\"\n",
    "else:\n",
    "    job_category_url = \"?\""
   ]
  },
  {
   "cell_type": "code",
   "execution_count": null,
   "id": "d4c07291",
   "metadata": {},
   "outputs": [],
   "source": [
    "# 스크래핑 설정\n",
    "headers = data_utils.DEFAULT_HEADERS\n",
    "site_name = 'jumpit'\n",
    "\n",
    "logging.basicConfig(level=logging.INFO, format='%(asctime)s - %(levelname)s - %(message)s')\n",
    "logging.info(\"스크래핑 설정 완료.\")"
   ]
  },
  {
   "cell_type": "code",
   "execution_count": null,
   "id": "764832e3",
   "metadata": {},
   "outputs": [],
   "source": [
    "def scrape_jumpit_positions():\n",
    "    \"\"\"Jumpit 채용 공고를 스크래핑하여 데이터 리스트를 반환합니다.\"\"\"\n",
    "    all_positions_data = []\n",
    "    page_no = 1\n",
    "\n",
    "    logging.info(\"Jumpit 채용 공고 스크래핑 시작\")\n",
    "\n",
    "    while True:\n",
    "        url = f\"https://jumpit-api.saramin.co.kr/api/positions{job_category_url}sort=rsp_rate&highlight=false&page={page_no}\"\n",
    "        logging.info(f\"페이지 {page_no}의 JSON 데이터 요청: {url}\")\n",
    "\n",
    "        try:\n",
    "            response = requests.get(url, headers=headers)\n",
    "            response.raise_for_status()\n",
    "\n",
    "            data = response.json()\n",
    "\n",
    "            positions_list = data['result']['positions']\n",
    "\n",
    "            if not positions_list:\n",
    "                logging.info(\"더 이상 채용 공고가 없습니다. 스크래핑 종료.\")\n",
    "                break\n",
    "\n",
    "            logging.info(f\"페이지 {page_no}에서 {len(positions_list)}개의 채용 공고 발견\")\n",
    "\n",
    "            for position in positions_list:\n",
    "                company_name = position['companyName']\n",
    "                position_title = position['title']\n",
    "                tech_stacks = position['techStacks']\n",
    "                skill = ', '.join(tech_stacks) if tech_stacks else \"N/A\"\n",
    "\n",
    "                # --- 여기에 필터링 함수 적용 ---\n",
    "                filtered_skill = data_utils.filter_skill_data(skill)\n",
    "                # --- 필터링 완료 ---\n",
    "\n",
    "                position_data = {\n",
    "                    'company': company_name,\n",
    "                    'position': position_title,\n",
    "                    'skill': filtered_skill,\n",
    "                }\n",
    "                all_positions_data.append(position_data)\n",
    "\n",
    "            page_no += 1\n",
    "            time.sleep(1)\n",
    "\n",
    "        except requests.exceptions.RequestException as e:\n",
    "            logging.error(f\"페이지 {page_no} 요청 실패: {e}\")\n",
    "            break\n",
    "        except KeyError as e:\n",
    "            logging.error(f\"페이지 {page_no} JSON 파싱 에러 (키 에러): {e}\")\n",
    "            break\n",
    "        except Exception as e:\n",
    "            logging.error(f\"예상치 못한 에러 발생: {e}\")\n",
    "            break\n",
    "\n",
    "    return all_positions_data"
   ]
  },
  {
   "cell_type": "code",
   "execution_count": null,
   "id": "ac20aa12",
   "metadata": {},
   "outputs": [],
   "source": [
    "# 두 번째 셀을 실행하여 스크래핑된 데이터를 가져옵니다.\n",
    "scraped_data = scrape_jumpit_positions()"
   ]
  },
  {
   "cell_type": "code",
   "execution_count": null,
   "id": "c46fd84f",
   "metadata": {},
   "outputs": [],
   "source": [
    "# data_utils 모듈의 save_data_to_csv 함수를 사용하여 데이터를 저장합니다.\n",
    "data_folder = 'data'\n",
    "filename = f'data_{site_name}_{job_category}.csv'\n",
    "\n",
    "saved_filepath = data_utils.save_data_to_csv(scraped_data, filename, folder=data_folder)"
   ]
  },
  {
   "cell_type": "code",
   "execution_count": null,
   "id": "e80aa11e",
   "metadata": {},
   "outputs": [],
   "source": [
    "# 저장된 CSV 파일을 읽어와 DataFrame으로 출력 (확인용)\n",
    "data_utils.load_data_from_csv(saved_filepath)"
   ]
  }
 ],
 "metadata": {
  "kernelspec": {
   "display_name": "base",
   "language": "python",
   "name": "python3"
  },
  "language_info": {
   "codemirror_mode": {
    "name": "ipython",
    "version": 3
   },
   "file_extension": ".py",
   "mimetype": "text/x-python",
   "name": "python",
   "nbconvert_exporter": "python",
   "pygments_lexer": "ipython3",
   "version": "3.12.7"
  }
 },
 "nbformat": 4,
 "nbformat_minor": 5
}
