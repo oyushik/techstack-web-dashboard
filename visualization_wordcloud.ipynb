{
 "cells": [
  {
   "cell_type": "code",
   "execution_count": 1,
   "id": "92d9bf35",
   "metadata": {},
   "outputs": [],
   "source": [
    "from wordcloud import WordCloud\n",
    "import os\n",
    "import pandas as pd\n",
    "import matplotlib\n",
    "import matplotlib.pyplot as plt\n",
    "\n",
    "\n",
    "matplotlib.rc('font', family = 'Malgun Gothic')"
   ]
  },
  {
   "cell_type": "code",
   "execution_count": 2,
   "id": "692d37f3",
   "metadata": {},
   "outputs": [],
   "source": [
    "df_total = pd.read_csv(\"data/merged_data_total.csv\")\n"
   ]
  },
  {
   "cell_type": "code",
   "execution_count": 3,
   "id": "01e51e93",
   "metadata": {},
   "outputs": [],
   "source": [
    "def create_wordcloud(df, shape_text):\n",
    "    try:\n",
    "        text_data = ' '.join(df['skill'].dropna().astype(str).tolist())\n",
    "    \n",
    "        # WordCloud 생성\n",
    "        wordcloud = WordCloud(\n",
    "            width=1400,\n",
    "            height=300,\n",
    "            background_color='black',  # 배경은 검은색으로 설정\n",
    "            colormap='viridis',        # 단어 색상 설정 (원하는 컬러맵으로 변경 가능)\n",
    "            max_words=200\n",
    "        ).generate(text_data)\n",
    "        \n",
    "        # 그림 생성\n",
    "        plt.figure(figsize=(10, 5))\n",
    "        plt.imshow(wordcloud, interpolation='bilinear')\n",
    "        plt.axis('off')  # 축 제거\n",
    "        \n",
    "        # 텍스트 오버레이 (하얀색으로 표시)\n",
    "        plt.text(\n",
    "            0.5, 0.5, shape_text,\n",
    "            fontsize=80,\n",
    "            fontweight='bold',\n",
    "            color='white',  # 배경 박스 설정\n",
    "            ha='center',  # 가운데 정렬\n",
    "            va='center',  # 가운데 정렬\n",
    "            transform=plt.gca().transAxes  # 축 기준으로 위치 설정\n",
    "        )\n",
    "        # 이미지 저장 경로 설정\n",
    "        shape_text = shape_text.replace(\" \", \"_\")  # 공백을 언더바로 변경\n",
    "        output_path = f\"data/wordcloud_{shape_text}.png\"\n",
    "        os.makedirs(os.path.dirname(output_path), exist_ok=True)\n",
    "\n",
    "        # 워드클라우드 저장\n",
    "        plt.savefig(\n",
    "            output_path,\n",
    "            bbox_inches='tight',  # 여백 제거\n",
    "            pad_inches=0,\n",
    "            dpi=300,  # 고해상도 설정\n",
    "            facecolor='black'  # 배경색 유지\n",
    "        )\n",
    "        plt.close()\n",
    "        print(f\"Wordcloud saved to {output_path}\")\n",
    "\n",
    "    except Exception as e:\n",
    "        print(f\"Error: {str(e)}\")"
   ]
  },
  {
   "cell_type": "code",
   "execution_count": 4,
   "id": "a3009a7a",
   "metadata": {},
   "outputs": [
    {
     "name": "stdout",
     "output_type": "stream",
     "text": [
      "Wordcloud saved to data/wordcloud_TECH_STACK.png\n"
     ]
    }
   ],
   "source": [
    "create_wordcloud(df_total, \"TECH STACK\")"
   ]
  }
 ],
 "metadata": {
  "kernelspec": {
   "display_name": "base",
   "language": "python",
   "name": "python3"
  },
  "language_info": {
   "codemirror_mode": {
    "name": "ipython",
    "version": 3
   },
   "file_extension": ".py",
   "mimetype": "text/x-python",
   "name": "python",
   "nbconvert_exporter": "python",
   "pygments_lexer": "ipython3",
   "version": "3.12.7"
  }
 },
 "nbformat": 4,
 "nbformat_minor": 5
}
