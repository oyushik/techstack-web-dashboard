{
 "cells": [
  {
   "cell_type": "code",
   "execution_count": null,
   "id": "7a8e03b4",
   "metadata": {},
   "outputs": [],
   "source": [
    "import pandas as pd\n",
    "import matplotlib\n",
    "import matplotlib.pyplot as plt\n",
    "import seaborn as sns\n",
    "import re\n",
    "\n",
    "matplotlib.rc('font', family = 'Malgun Gothic')"
   ]
  },
  {
   "cell_type": "code",
   "execution_count": null,
   "id": "e07c5673",
   "metadata": {},
   "outputs": [],
   "source": [
    "df_merged_total = pd.read_csv(\"data/merged_data_total.csv\")\n",
    "df_merged_back = pd.read_csv(\"data/merged_data_backend.csv\")\n",
    "df_merged_front = pd.read_csv(\"data/merged_data_frontend.csv\")"
   ]
  },
  {
   "cell_type": "code",
   "execution_count": null,
   "id": "e3b0f08b",
   "metadata": {},
   "outputs": [],
   "source": [
    "#df_merged에서 position에 해당하는 키값에 따라 새로운 dataframe으로 분류류\n",
    "full_key = ['풀스택','풀 스택', 'full stack', 'fullstack']\n",
    "\n",
    "def contains_keyword(text, keywords):\n",
    "    text = str(text).lower()\n",
    "    return any(kw.lower() in text for kw in keywords)\n",
    "\n",
    "df_merged_full  = df_merged_total[df_merged_total['position'].apply(lambda x: contains_keyword(x, full_key))].copy()"
   ]
  },
  {
   "cell_type": "code",
   "execution_count": null,
   "id": "b0560220",
   "metadata": {},
   "outputs": [],
   "source": [
    "def draw_bar(data, df_name):\n",
    "    figure, ax = plt.subplots()\n",
    "    figure.set_size_inches(18,10)\n",
    "\n",
    "    #위에 만든 df의 column 하나씩 그래프로 그리기\n",
    "    colors = sns.color_palette(\"hls\", len(data.index))\n",
    "    ax = sns.barplot(x = data.values, y = data.index, hue = data.index, palette = colors, ax = ax, )\n",
    "    ax.set_title(df_name, fontsize=20)\n",
    "    ax.set_ylabel('')\n",
    "    ax.legend(data.index, ncol=2, loc='lower right', labelcolor=colors, fontsize=16)\n",
    "\n",
    "    #각 bar 위에 해당하는 숫자를 넣기기\n",
    "    max_value = max(data.values)\n",
    "    for j, (x_val, y_val) in enumerate(zip(data.index, data.values)):\n",
    "        ax.text(x = y_val + max_value*0.02, y = j, s = f'{y_val:.0f}', ha = 'center', va = 'center', fontsize = 12, color = colors[j])\n",
    "    plt.show()"
   ]
  },
  {
   "cell_type": "code",
   "execution_count": null,
   "id": "4cfe61e7",
   "metadata": {},
   "outputs": [],
   "source": [
    "def autopct_func(pct):\n",
    "    return ('%.1f%%' % pct) if pct > 2 else ''\n",
    "\n",
    "def draw_circle(data, df_name):\n",
    "    figure, ax = plt.subplots()\n",
    "    figure.set_size_inches(20,10)\n",
    "\n",
    "    colors = sns.color_palette(\"hls\", len(data.index))\n",
    "\n",
    "    # 원형 그래프 그리기 autopct=비율 표시, pctdistance=중앙으로부터 pct거리, startangle=시작 각도\n",
    "    autotexts = ax.pie(data.values, colors=colors, autopct=autopct_func, pctdistance=0.8,\\\n",
    "                startangle=90, rotatelabels=True, textprops={'fontsize': 14})\n",
    "    \n",
    "    ax.legend(data.index, ncol=2, loc='right', labelcolor=colors, fontsize=14)\n",
    "    ax.set_title(df_name, fontsize=20, x=0.1, y=0.95)\n",
    "    ax.axis('equal')  # 원이 찌그러지지 않게 1:1비율 고정정\n",
    "\n",
    "    plt.show()"
   ]
  },
  {
   "cell_type": "code",
   "execution_count": null,
   "id": "2b544aec",
   "metadata": {},
   "outputs": [],
   "source": [
    "keys = ['AWS', 'C#', 'C++', 'C언어', 'ANDROID'\n",
    "       'CSS3', 'DOCKER', 'EXPRESSJS', 'FLUTTER', 'GIT', 'GRADLE', 'GRAPHQL',\n",
    "       'HTML', 'SWIFT', 'JAVA', 'JAVASCRIPT', 'KOTLIN', 'MARIADB', 'MSA',\n",
    "       'MYBATIS', 'MYSQL', 'NEST', 'NEXT', 'NODE', 'PHP', 'PYTHON', 'RDB', 'REACT',\n",
    "       'UNITY', 'REDUX', 'KUBERNETES', 'SPRING', 'SQL',\n",
    "       'TYPESCRIPT', 'UBUNTU', 'VUE', 'ZUSTAND', 'LINUX', 'DART']\n",
    "\n",
    "def data_frac(df, series):\n",
    "    series = series.rename(index=lambda x: re.sub(r'\\bC\\s?(?:언어|개발)', 'C언어', x, flags=re.IGNORECASE))\n",
    "\n",
    "    for keyword in keys:\n",
    "        count = df['skill'].fillna('').str.contains(re.escape(keyword), flags=re.IGNORECASE).sum()\n",
    "        series[keyword] += count\n",
    "\n",
    "    series['JAVA'] = series['JAVA']-series['JAVASCRIPT']\n",
    "\n",
    "    series = series.drop(series[series == 0].index).sort_values(ascending=False)\n",
    "    return series"
   ]
  },
  {
   "cell_type": "code",
   "execution_count": null,
   "id": "3692158e",
   "metadata": {},
   "outputs": [],
   "source": [
    "#position을 구분하지 않고 전체 detail데이터에서 키워드 세기\n",
    "df_merged_cnt = pd.Series(0, index=keys)\n",
    "df_merged_cnt = data_frac(df_merged_total,df_merged_cnt)\n",
    "\n",
    "#각 position별로 구분하여 detail데이터에서 키워드 세기\n",
    "df_merged_back_cnt = pd.Series(0, index=keys)\n",
    "df_merged_back_cnt = data_frac(df_merged_back, df_merged_back_cnt)\n",
    "\n",
    "df_merged_front_cnt = pd.Series(0, index=keys)\n",
    "df_merged_front_cnt = data_frac(df_merged_front, df_merged_front_cnt)\n",
    "\n",
    "df_merged_full_cnt = pd.Series(0, index=keys)\n",
    "df_merged_full_cnt = data_frac(df_merged_full, df_merged_full_cnt)"
   ]
  },
  {
   "cell_type": "code",
   "execution_count": null,
   "id": "98ec11ea",
   "metadata": {},
   "outputs": [],
   "source": [
    "draw_bar(df_merged_cnt, 'Merged(Total)')\n",
    "draw_bar(df_merged_back_cnt, 'Merged(Back-End)')\n",
    "draw_bar(df_merged_front_cnt, 'Merged(Front-End)')\n",
    "draw_bar(df_merged_full_cnt, 'Merged(Full Stack)')"
   ]
  },
  {
   "cell_type": "code",
   "execution_count": null,
   "id": "62cd337c",
   "metadata": {},
   "outputs": [],
   "source": [
    "draw_circle(df_merged_cnt, 'Merged(Total)')\n",
    "draw_circle(df_merged_back_cnt, 'Merged(Back-End)')\n",
    "draw_circle(df_merged_front_cnt, 'Merged(Front-End)')\n",
    "draw_circle(df_merged_full_cnt, 'Merged(Full Stack)')"
   ]
  }
 ],
 "metadata": {
  "kernelspec": {
   "display_name": "base",
   "language": "python",
   "name": "python3"
  },
  "language_info": {
   "codemirror_mode": {
    "name": "ipython",
    "version": 3
   },
   "file_extension": ".py",
   "mimetype": "text/x-python",
   "name": "python",
   "nbconvert_exporter": "python",
   "pygments_lexer": "ipython3",
   "version": "3.12.7"
  }
 },
 "nbformat": 4,
 "nbformat_minor": 5
}
